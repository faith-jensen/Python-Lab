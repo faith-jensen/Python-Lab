{
 "cells": [
  {
   "cell_type": "code",
   "execution_count": 7,
   "metadata": {},
   "outputs": [
    {
     "name": "stdout",
     "output_type": "stream",
     "text": [
      "9.810000000000001e-05\n"
     ]
    }
   ],
   "source": [
    "import numpy as np\n",
    "\n",
    "def rule1(c, dA):\n",
    "    dQ = c*dA\n",
    "    return dQ\n",
    "\n",
    "c = 9.81\n",
    "dA = .00001\n",
    "\n",
    "dQ = rule1(dA, c)\n",
    "print (dQ)\n"
   ]
  },
  {
   "cell_type": "code",
   "execution_count": 4,
   "metadata": {},
   "outputs": [
    {
     "name": "stdout",
     "output_type": "stream",
     "text": [
      "0.5\n"
     ]
    }
   ],
   "source": [
    "def rule2 (dA, A, m):\n",
    "    dQ = (m*dA)/(A)\n",
    "    return dQ\n",
    "\n",
    "m = 5\n",
    "dA = .1\n",
    "A = 1\n",
    "\n",
    "dQ = rule2(dA, A, m)\n",
    "print (dQ)\n"
   ]
  },
  {
   "cell_type": "code",
   "execution_count": 5,
   "metadata": {},
   "outputs": [
    {
     "name": "stdout",
     "output_type": "stream",
     "text": [
      "0.223606797749979\n"
     ]
    }
   ],
   "source": [
    "def rule3(dA, dB):\n",
    "    dQ = np.sqrt(dA**2 + dB**2)\n",
    "    return dQ\n",
    "\n",
    "dA = .2\n",
    "dB = .1\n",
    "\n",
    "dQ = rule3(dA, dB)\n",
    "print (dQ)\n"
   ]
  },
  {
   "cell_type": "code",
   "execution_count": 9,
   "metadata": {},
   "outputs": [
    {
     "name": "stdout",
     "output_type": "stream",
     "text": [
      "0.029523848555627754\n"
     ]
    }
   ],
   "source": [
    "def rule4(m, dA, A, n, dB, B):\n",
    "    dQ = np.sqrt(((m*dA)/A)**2 + ((n*dB)/B)**2)\n",
    "    return dQ\n",
    "\n",
    "m = 1\n",
    "dA = .00001\n",
    "A = .2083\n",
    "n = 1\n",
    "dB = .31\n",
    "B = 10.5\n",
    "\n",
    "dQ = rule4(m, dA, A, n, dB, B)\n",
    "print (dQ)\n"
   ]
  },
  {
   "cell_type": "code",
   "execution_count": 13,
   "metadata": {},
   "outputs": [
    {
     "name": "stdout",
     "output_type": "stream",
     "text": [
      "1.1166666666666667\n",
      "0.073282810879294\n"
     ]
    }
   ],
   "source": [
    "#python for calculations\n",
    "x = np.array([1.1, 1.3, 1.4, .9, .95, 1.05])\n",
    "\n",
    "err_x = np.std(x)/np.sqrt(6)\n",
    "\n",
    "print (np.average(x))\n",
    "print (err_x)\n",
    "\n",
    "#My results are 1.12 +/- .073. \n"
   ]
  },
  {
   "cell_type": "markdown",
   "metadata": {},
   "source": [
    "Generic Form of Rule 3\n",
    "\n",
    "$\\delta Q = \\sqrt{(\\delta A)^2 + (\\delta B)^2}$\n"
   ]
  },
  {
   "cell_type": "markdown",
   "metadata": {},
   "source": [
    "Equation for Uncertainty of Centripetal Force\n",
    "\n",
    "$\\delta \\Sigma F_c = \\sqrt{(.00001/.2083)^2 + (.31/10.5)}$"
   ]
  },
  {
   "cell_type": "code",
   "execution_count": null,
   "metadata": {},
   "outputs": [],
   "source": []
  }
 ],
 "metadata": {
  "kernelspec": {
   "display_name": "Python 3",
   "language": "python",
   "name": "python3"
  },
  "language_info": {
   "codemirror_mode": {
    "name": "ipython",
    "version": 3
   },
   "file_extension": ".py",
   "mimetype": "text/x-python",
   "name": "python",
   "nbconvert_exporter": "python",
   "pygments_lexer": "ipython3",
   "version": "3.8.3"
  }
 },
 "nbformat": 4,
 "nbformat_minor": 4
}
